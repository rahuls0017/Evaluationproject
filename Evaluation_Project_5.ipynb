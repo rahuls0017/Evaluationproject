{
 "cells": [
  {
   "cell_type": "markdown",
   "metadata": {},
   "source": [
    "# Project Heart Disease Dataset"
   ]
  },
  {
   "cell_type": "markdown",
   "metadata": {},
   "source": [
    "Data Set Information:\n",
    "\n",
    "This database contains 14 attributes . In particular, the Cleveland database is the only one that has been used by ML researchers to this date. The \"goal\" field refers to the presence of heart disease in the patient. It is integer valued from 0 (no presence) to 4. Experiments with the Cleveland database have concentrated on simply attempting to distinguish presence (values 1,2,3,4) from absence (value 0).\n"
   ]
  },
  {
   "cell_type": "code",
   "execution_count": 1,
   "metadata": {},
   "outputs": [],
   "source": [
    "#import the required libraries\n",
    "import pandas as pd\n",
    "import numpy as np\n",
    "import matplotlib.pyplot as plt\n",
    "import seaborn as sns\n",
    "import warnings\n",
    "warnings.filterwarnings(\"ignore\")"
   ]
  },
  {
   "cell_type": "code",
   "execution_count": 2,
   "metadata": {},
   "outputs": [
    {
     "data": {
      "text/html": [
       "<div>\n",
       "<style scoped>\n",
       "    .dataframe tbody tr th:only-of-type {\n",
       "        vertical-align: middle;\n",
       "    }\n",
       "\n",
       "    .dataframe tbody tr th {\n",
       "        vertical-align: top;\n",
       "    }\n",
       "\n",
       "    .dataframe thead th {\n",
       "        text-align: right;\n",
       "    }\n",
       "</style>\n",
       "<table border=\"1\" class=\"dataframe\">\n",
       "  <thead>\n",
       "    <tr style=\"text-align: right;\">\n",
       "      <th></th>\n",
       "      <th>age</th>\n",
       "      <th>sex</th>\n",
       "      <th>cp</th>\n",
       "      <th>trestbps</th>\n",
       "      <th>chol</th>\n",
       "      <th>fbs</th>\n",
       "      <th>restecg</th>\n",
       "      <th>thalach</th>\n",
       "      <th>exang</th>\n",
       "      <th>oldpeak</th>\n",
       "      <th>slope</th>\n",
       "      <th>ca</th>\n",
       "      <th>thal</th>\n",
       "      <th>num</th>\n",
       "    </tr>\n",
       "  </thead>\n",
       "  <tbody>\n",
       "    <tr>\n",
       "      <th>0</th>\n",
       "      <td>63</td>\n",
       "      <td>1</td>\n",
       "      <td>4</td>\n",
       "      <td>140</td>\n",
       "      <td>260</td>\n",
       "      <td>0</td>\n",
       "      <td>1</td>\n",
       "      <td>112</td>\n",
       "      <td>1</td>\n",
       "      <td>3</td>\n",
       "      <td>2</td>\n",
       "      <td>?</td>\n",
       "      <td>?</td>\n",
       "      <td>2</td>\n",
       "    </tr>\n",
       "    <tr>\n",
       "      <th>1</th>\n",
       "      <td>44</td>\n",
       "      <td>1</td>\n",
       "      <td>4</td>\n",
       "      <td>130</td>\n",
       "      <td>209</td>\n",
       "      <td>0</td>\n",
       "      <td>1</td>\n",
       "      <td>127</td>\n",
       "      <td>0</td>\n",
       "      <td>0</td>\n",
       "      <td>?</td>\n",
       "      <td>?</td>\n",
       "      <td>?</td>\n",
       "      <td>0</td>\n",
       "    </tr>\n",
       "    <tr>\n",
       "      <th>2</th>\n",
       "      <td>60</td>\n",
       "      <td>1</td>\n",
       "      <td>4</td>\n",
       "      <td>132</td>\n",
       "      <td>218</td>\n",
       "      <td>0</td>\n",
       "      <td>1</td>\n",
       "      <td>140</td>\n",
       "      <td>1</td>\n",
       "      <td>1.5</td>\n",
       "      <td>3</td>\n",
       "      <td>?</td>\n",
       "      <td>?</td>\n",
       "      <td>2</td>\n",
       "    </tr>\n",
       "    <tr>\n",
       "      <th>3</th>\n",
       "      <td>55</td>\n",
       "      <td>1</td>\n",
       "      <td>4</td>\n",
       "      <td>142</td>\n",
       "      <td>228</td>\n",
       "      <td>0</td>\n",
       "      <td>1</td>\n",
       "      <td>149</td>\n",
       "      <td>1</td>\n",
       "      <td>2.5</td>\n",
       "      <td>1</td>\n",
       "      <td>?</td>\n",
       "      <td>?</td>\n",
       "      <td>1</td>\n",
       "    </tr>\n",
       "    <tr>\n",
       "      <th>4</th>\n",
       "      <td>66</td>\n",
       "      <td>1</td>\n",
       "      <td>3</td>\n",
       "      <td>110</td>\n",
       "      <td>213</td>\n",
       "      <td>1</td>\n",
       "      <td>2</td>\n",
       "      <td>99</td>\n",
       "      <td>1</td>\n",
       "      <td>1.3</td>\n",
       "      <td>2</td>\n",
       "      <td>?</td>\n",
       "      <td>?</td>\n",
       "      <td>0</td>\n",
       "    </tr>\n",
       "    <tr>\n",
       "      <th>...</th>\n",
       "      <td>...</td>\n",
       "      <td>...</td>\n",
       "      <td>...</td>\n",
       "      <td>...</td>\n",
       "      <td>...</td>\n",
       "      <td>...</td>\n",
       "      <td>...</td>\n",
       "      <td>...</td>\n",
       "      <td>...</td>\n",
       "      <td>...</td>\n",
       "      <td>...</td>\n",
       "      <td>...</td>\n",
       "      <td>...</td>\n",
       "      <td>...</td>\n",
       "    </tr>\n",
       "    <tr>\n",
       "      <th>195</th>\n",
       "      <td>54</td>\n",
       "      <td>0</td>\n",
       "      <td>4</td>\n",
       "      <td>127</td>\n",
       "      <td>333</td>\n",
       "      <td>1</td>\n",
       "      <td>1</td>\n",
       "      <td>154</td>\n",
       "      <td>0</td>\n",
       "      <td>0</td>\n",
       "      <td>?</td>\n",
       "      <td>?</td>\n",
       "      <td>?</td>\n",
       "      <td>1</td>\n",
       "    </tr>\n",
       "    <tr>\n",
       "      <th>196</th>\n",
       "      <td>62</td>\n",
       "      <td>1</td>\n",
       "      <td>1</td>\n",
       "      <td>?</td>\n",
       "      <td>139</td>\n",
       "      <td>0</td>\n",
       "      <td>1</td>\n",
       "      <td>?</td>\n",
       "      <td>?</td>\n",
       "      <td>?</td>\n",
       "      <td>?</td>\n",
       "      <td>?</td>\n",
       "      <td>?</td>\n",
       "      <td>0</td>\n",
       "    </tr>\n",
       "    <tr>\n",
       "      <th>197</th>\n",
       "      <td>55</td>\n",
       "      <td>1</td>\n",
       "      <td>4</td>\n",
       "      <td>122</td>\n",
       "      <td>223</td>\n",
       "      <td>1</td>\n",
       "      <td>1</td>\n",
       "      <td>100</td>\n",
       "      <td>0</td>\n",
       "      <td>0</td>\n",
       "      <td>?</td>\n",
       "      <td>?</td>\n",
       "      <td>6</td>\n",
       "      <td>2</td>\n",
       "    </tr>\n",
       "    <tr>\n",
       "      <th>198</th>\n",
       "      <td>58</td>\n",
       "      <td>1</td>\n",
       "      <td>4</td>\n",
       "      <td>?</td>\n",
       "      <td>385</td>\n",
       "      <td>1</td>\n",
       "      <td>2</td>\n",
       "      <td>?</td>\n",
       "      <td>?</td>\n",
       "      <td>?</td>\n",
       "      <td>?</td>\n",
       "      <td>?</td>\n",
       "      <td>?</td>\n",
       "      <td>0</td>\n",
       "    </tr>\n",
       "    <tr>\n",
       "      <th>199</th>\n",
       "      <td>62</td>\n",
       "      <td>1</td>\n",
       "      <td>2</td>\n",
       "      <td>120</td>\n",
       "      <td>254</td>\n",
       "      <td>0</td>\n",
       "      <td>2</td>\n",
       "      <td>93</td>\n",
       "      <td>1</td>\n",
       "      <td>0</td>\n",
       "      <td>?</td>\n",
       "      <td>?</td>\n",
       "      <td>?</td>\n",
       "      <td>1</td>\n",
       "    </tr>\n",
       "  </tbody>\n",
       "</table>\n",
       "<p>200 rows × 14 columns</p>\n",
       "</div>"
      ],
      "text/plain": [
       "     age  sex  cp trestbps chol fbs  restecg thalach exang oldpeak slope ca  \\\n",
       "0     63    1   4      140  260   0        1     112     1       3     2  ?   \n",
       "1     44    1   4      130  209   0        1     127     0       0     ?  ?   \n",
       "2     60    1   4      132  218   0        1     140     1     1.5     3  ?   \n",
       "3     55    1   4      142  228   0        1     149     1     2.5     1  ?   \n",
       "4     66    1   3      110  213   1        2      99     1     1.3     2  ?   \n",
       "..   ...  ...  ..      ...  ...  ..      ...     ...   ...     ...   ... ..   \n",
       "195   54    0   4      127  333   1        1     154     0       0     ?  ?   \n",
       "196   62    1   1        ?  139   0        1       ?     ?       ?     ?  ?   \n",
       "197   55    1   4      122  223   1        1     100     0       0     ?  ?   \n",
       "198   58    1   4        ?  385   1        2       ?     ?       ?     ?  ?   \n",
       "199   62    1   2      120  254   0        2      93     1       0     ?  ?   \n",
       "\n",
       "    thal  num  \n",
       "0      ?    2  \n",
       "1      ?    0  \n",
       "2      ?    2  \n",
       "3      ?    1  \n",
       "4      ?    0  \n",
       "..   ...  ...  \n",
       "195    ?    1  \n",
       "196    ?    0  \n",
       "197    6    2  \n",
       "198    ?    0  \n",
       "199    ?    1  \n",
       "\n",
       "[200 rows x 14 columns]"
      ]
     },
     "execution_count": 2,
     "metadata": {},
     "output_type": "execute_result"
    }
   ],
   "source": [
    "#load the dataset\n",
    "df = pd.read_csv(\"Heart_Disease.csv\")\n",
    "df"
   ]
  },
  {
   "cell_type": "code",
   "execution_count": 3,
   "metadata": {},
   "outputs": [],
   "source": [
    "#as we know that 0 is absence of heart disease and 1,2,3,4 are presence of heart disease.so we can convert them to 1 or 0.\n",
    "df['num'] = df.num.map({0: 0, 1: 1, 2: 1, 3: 1, 4: 1})"
   ]
  },
  {
   "cell_type": "code",
   "execution_count": 4,
   "metadata": {},
   "outputs": [
    {
     "data": {
      "text/plain": [
       "age          int64\n",
       "sex          int64\n",
       "cp           int64\n",
       "trestbps    object\n",
       "chol        object\n",
       "fbs         object\n",
       "restecg      int64\n",
       "thalach     object\n",
       "exang       object\n",
       "oldpeak     object\n",
       "slope       object\n",
       "ca          object\n",
       "thal        object\n",
       "num          int64\n",
       "dtype: object"
      ]
     },
     "execution_count": 4,
     "metadata": {},
     "output_type": "execute_result"
    }
   ],
   "source": [
    "#checking the data types \n",
    "df.dtypes"
   ]
  },
  {
   "cell_type": "code",
   "execution_count": 5,
   "metadata": {},
   "outputs": [
    {
     "name": "stdout",
     "output_type": "stream",
     "text": [
      "<class 'pandas.core.frame.DataFrame'>\n",
      "RangeIndex: 200 entries, 0 to 199\n",
      "Data columns (total 14 columns):\n",
      " #   Column    Non-Null Count  Dtype \n",
      "---  ------    --------------  ----- \n",
      " 0   age       200 non-null    int64 \n",
      " 1   sex       200 non-null    int64 \n",
      " 2   cp        200 non-null    int64 \n",
      " 3   trestbps  200 non-null    object\n",
      " 4   chol      200 non-null    object\n",
      " 5   fbs       200 non-null    object\n",
      " 6   restecg   200 non-null    int64 \n",
      " 7   thalach   200 non-null    object\n",
      " 8   exang     200 non-null    object\n",
      " 9   oldpeak   200 non-null    object\n",
      " 10  slope     200 non-null    object\n",
      " 11  ca        200 non-null    object\n",
      " 12  thal      200 non-null    object\n",
      " 13  num       200 non-null    int64 \n",
      "dtypes: int64(5), object(9)\n",
      "memory usage: 22.0+ KB\n"
     ]
    }
   ],
   "source": [
    "#checking the info of the dataset\n",
    "df.info()"
   ]
  },
  {
   "cell_type": "code",
   "execution_count": 6,
   "metadata": {},
   "outputs": [],
   "source": [
    "#as the values in the ca column are not known we can drop that column\n",
    "df.drop(\"ca\",axis=1,inplace = True)"
   ]
  },
  {
   "cell_type": "code",
   "execution_count": 7,
   "metadata": {},
   "outputs": [
    {
     "data": {
      "text/plain": [
       "(200, 13)"
      ]
     },
     "execution_count": 7,
     "metadata": {},
     "output_type": "execute_result"
    }
   ],
   "source": [
    "df.shape"
   ]
  },
  {
   "cell_type": "code",
   "execution_count": 8,
   "metadata": {},
   "outputs": [],
   "source": [
    "df = df.replace('?', np.NaN)"
   ]
  },
  {
   "cell_type": "code",
   "execution_count": 9,
   "metadata": {},
   "outputs": [
    {
     "data": {
      "text/html": [
       "<div>\n",
       "<style scoped>\n",
       "    .dataframe tbody tr th:only-of-type {\n",
       "        vertical-align: middle;\n",
       "    }\n",
       "\n",
       "    .dataframe tbody tr th {\n",
       "        vertical-align: top;\n",
       "    }\n",
       "\n",
       "    .dataframe thead th {\n",
       "        text-align: right;\n",
       "    }\n",
       "</style>\n",
       "<table border=\"1\" class=\"dataframe\">\n",
       "  <thead>\n",
       "    <tr style=\"text-align: right;\">\n",
       "      <th></th>\n",
       "      <th>age</th>\n",
       "      <th>sex</th>\n",
       "      <th>cp</th>\n",
       "      <th>trestbps</th>\n",
       "      <th>chol</th>\n",
       "      <th>fbs</th>\n",
       "      <th>restecg</th>\n",
       "      <th>thalach</th>\n",
       "      <th>exang</th>\n",
       "      <th>oldpeak</th>\n",
       "      <th>slope</th>\n",
       "      <th>thal</th>\n",
       "      <th>num</th>\n",
       "    </tr>\n",
       "  </thead>\n",
       "  <tbody>\n",
       "    <tr>\n",
       "      <th>0</th>\n",
       "      <td>63</td>\n",
       "      <td>1</td>\n",
       "      <td>4</td>\n",
       "      <td>140</td>\n",
       "      <td>260</td>\n",
       "      <td>0</td>\n",
       "      <td>1</td>\n",
       "      <td>112</td>\n",
       "      <td>1</td>\n",
       "      <td>3</td>\n",
       "      <td>2</td>\n",
       "      <td>NaN</td>\n",
       "      <td>1</td>\n",
       "    </tr>\n",
       "    <tr>\n",
       "      <th>1</th>\n",
       "      <td>44</td>\n",
       "      <td>1</td>\n",
       "      <td>4</td>\n",
       "      <td>130</td>\n",
       "      <td>209</td>\n",
       "      <td>0</td>\n",
       "      <td>1</td>\n",
       "      <td>127</td>\n",
       "      <td>0</td>\n",
       "      <td>0</td>\n",
       "      <td>NaN</td>\n",
       "      <td>NaN</td>\n",
       "      <td>0</td>\n",
       "    </tr>\n",
       "    <tr>\n",
       "      <th>2</th>\n",
       "      <td>60</td>\n",
       "      <td>1</td>\n",
       "      <td>4</td>\n",
       "      <td>132</td>\n",
       "      <td>218</td>\n",
       "      <td>0</td>\n",
       "      <td>1</td>\n",
       "      <td>140</td>\n",
       "      <td>1</td>\n",
       "      <td>1.5</td>\n",
       "      <td>3</td>\n",
       "      <td>NaN</td>\n",
       "      <td>1</td>\n",
       "    </tr>\n",
       "    <tr>\n",
       "      <th>3</th>\n",
       "      <td>55</td>\n",
       "      <td>1</td>\n",
       "      <td>4</td>\n",
       "      <td>142</td>\n",
       "      <td>228</td>\n",
       "      <td>0</td>\n",
       "      <td>1</td>\n",
       "      <td>149</td>\n",
       "      <td>1</td>\n",
       "      <td>2.5</td>\n",
       "      <td>1</td>\n",
       "      <td>NaN</td>\n",
       "      <td>1</td>\n",
       "    </tr>\n",
       "    <tr>\n",
       "      <th>4</th>\n",
       "      <td>66</td>\n",
       "      <td>1</td>\n",
       "      <td>3</td>\n",
       "      <td>110</td>\n",
       "      <td>213</td>\n",
       "      <td>1</td>\n",
       "      <td>2</td>\n",
       "      <td>99</td>\n",
       "      <td>1</td>\n",
       "      <td>1.3</td>\n",
       "      <td>2</td>\n",
       "      <td>NaN</td>\n",
       "      <td>0</td>\n",
       "    </tr>\n",
       "    <tr>\n",
       "      <th>...</th>\n",
       "      <td>...</td>\n",
       "      <td>...</td>\n",
       "      <td>...</td>\n",
       "      <td>...</td>\n",
       "      <td>...</td>\n",
       "      <td>...</td>\n",
       "      <td>...</td>\n",
       "      <td>...</td>\n",
       "      <td>...</td>\n",
       "      <td>...</td>\n",
       "      <td>...</td>\n",
       "      <td>...</td>\n",
       "      <td>...</td>\n",
       "    </tr>\n",
       "    <tr>\n",
       "      <th>195</th>\n",
       "      <td>54</td>\n",
       "      <td>0</td>\n",
       "      <td>4</td>\n",
       "      <td>127</td>\n",
       "      <td>333</td>\n",
       "      <td>1</td>\n",
       "      <td>1</td>\n",
       "      <td>154</td>\n",
       "      <td>0</td>\n",
       "      <td>0</td>\n",
       "      <td>NaN</td>\n",
       "      <td>NaN</td>\n",
       "      <td>1</td>\n",
       "    </tr>\n",
       "    <tr>\n",
       "      <th>196</th>\n",
       "      <td>62</td>\n",
       "      <td>1</td>\n",
       "      <td>1</td>\n",
       "      <td>NaN</td>\n",
       "      <td>139</td>\n",
       "      <td>0</td>\n",
       "      <td>1</td>\n",
       "      <td>NaN</td>\n",
       "      <td>NaN</td>\n",
       "      <td>NaN</td>\n",
       "      <td>NaN</td>\n",
       "      <td>NaN</td>\n",
       "      <td>0</td>\n",
       "    </tr>\n",
       "    <tr>\n",
       "      <th>197</th>\n",
       "      <td>55</td>\n",
       "      <td>1</td>\n",
       "      <td>4</td>\n",
       "      <td>122</td>\n",
       "      <td>223</td>\n",
       "      <td>1</td>\n",
       "      <td>1</td>\n",
       "      <td>100</td>\n",
       "      <td>0</td>\n",
       "      <td>0</td>\n",
       "      <td>NaN</td>\n",
       "      <td>6</td>\n",
       "      <td>1</td>\n",
       "    </tr>\n",
       "    <tr>\n",
       "      <th>198</th>\n",
       "      <td>58</td>\n",
       "      <td>1</td>\n",
       "      <td>4</td>\n",
       "      <td>NaN</td>\n",
       "      <td>385</td>\n",
       "      <td>1</td>\n",
       "      <td>2</td>\n",
       "      <td>NaN</td>\n",
       "      <td>NaN</td>\n",
       "      <td>NaN</td>\n",
       "      <td>NaN</td>\n",
       "      <td>NaN</td>\n",
       "      <td>0</td>\n",
       "    </tr>\n",
       "    <tr>\n",
       "      <th>199</th>\n",
       "      <td>62</td>\n",
       "      <td>1</td>\n",
       "      <td>2</td>\n",
       "      <td>120</td>\n",
       "      <td>254</td>\n",
       "      <td>0</td>\n",
       "      <td>2</td>\n",
       "      <td>93</td>\n",
       "      <td>1</td>\n",
       "      <td>0</td>\n",
       "      <td>NaN</td>\n",
       "      <td>NaN</td>\n",
       "      <td>1</td>\n",
       "    </tr>\n",
       "  </tbody>\n",
       "</table>\n",
       "<p>200 rows × 13 columns</p>\n",
       "</div>"
      ],
      "text/plain": [
       "     age  sex  cp trestbps chol fbs  restecg thalach exang oldpeak slope thal  \\\n",
       "0     63    1   4      140  260   0        1     112     1       3     2  NaN   \n",
       "1     44    1   4      130  209   0        1     127     0       0   NaN  NaN   \n",
       "2     60    1   4      132  218   0        1     140     1     1.5     3  NaN   \n",
       "3     55    1   4      142  228   0        1     149     1     2.5     1  NaN   \n",
       "4     66    1   3      110  213   1        2      99     1     1.3     2  NaN   \n",
       "..   ...  ...  ..      ...  ...  ..      ...     ...   ...     ...   ...  ...   \n",
       "195   54    0   4      127  333   1        1     154     0       0   NaN  NaN   \n",
       "196   62    1   1      NaN  139   0        1     NaN   NaN     NaN   NaN  NaN   \n",
       "197   55    1   4      122  223   1        1     100     0       0   NaN    6   \n",
       "198   58    1   4      NaN  385   1        2     NaN   NaN     NaN   NaN  NaN   \n",
       "199   62    1   2      120  254   0        2      93     1       0   NaN  NaN   \n",
       "\n",
       "     num  \n",
       "0      1  \n",
       "1      0  \n",
       "2      1  \n",
       "3      1  \n",
       "4      0  \n",
       "..   ...  \n",
       "195    1  \n",
       "196    0  \n",
       "197    1  \n",
       "198    0  \n",
       "199    1  \n",
       "\n",
       "[200 rows x 13 columns]"
      ]
     },
     "execution_count": 9,
     "metadata": {},
     "output_type": "execute_result"
    }
   ],
   "source": [
    "df"
   ]
  },
  {
   "cell_type": "code",
   "execution_count": 10,
   "metadata": {},
   "outputs": [
    {
     "data": {
      "text/plain": [
       "age           0\n",
       "sex           0\n",
       "cp            0\n",
       "trestbps     56\n",
       "chol          7\n",
       "fbs           7\n",
       "restecg       0\n",
       "thalach      53\n",
       "exang        53\n",
       "oldpeak      56\n",
       "slope       102\n",
       "thal        166\n",
       "num           0\n",
       "dtype: int64"
      ]
     },
     "execution_count": 10,
     "metadata": {},
     "output_type": "execute_result"
    }
   ],
   "source": [
    "df.isnull().sum()"
   ]
  },
  {
   "cell_type": "code",
   "execution_count": 11,
   "metadata": {},
   "outputs": [],
   "source": [
    "#in the \"thal\" column the missing values are more. so we can drop it\n",
    "df.drop(\"thal\",axis=1,inplace = True)"
   ]
  },
  {
   "cell_type": "code",
   "execution_count": 12,
   "metadata": {},
   "outputs": [
    {
     "data": {
      "text/html": [
       "<div>\n",
       "<style scoped>\n",
       "    .dataframe tbody tr th:only-of-type {\n",
       "        vertical-align: middle;\n",
       "    }\n",
       "\n",
       "    .dataframe tbody tr th {\n",
       "        vertical-align: top;\n",
       "    }\n",
       "\n",
       "    .dataframe thead th {\n",
       "        text-align: right;\n",
       "    }\n",
       "</style>\n",
       "<table border=\"1\" class=\"dataframe\">\n",
       "  <thead>\n",
       "    <tr style=\"text-align: right;\">\n",
       "      <th></th>\n",
       "      <th>age</th>\n",
       "      <th>sex</th>\n",
       "      <th>cp</th>\n",
       "      <th>trestbps</th>\n",
       "      <th>chol</th>\n",
       "      <th>fbs</th>\n",
       "      <th>restecg</th>\n",
       "      <th>thalach</th>\n",
       "      <th>exang</th>\n",
       "      <th>oldpeak</th>\n",
       "      <th>slope</th>\n",
       "      <th>num</th>\n",
       "    </tr>\n",
       "  </thead>\n",
       "  <tbody>\n",
       "    <tr>\n",
       "      <th>0</th>\n",
       "      <td>63</td>\n",
       "      <td>1</td>\n",
       "      <td>4</td>\n",
       "      <td>140</td>\n",
       "      <td>260</td>\n",
       "      <td>0</td>\n",
       "      <td>1</td>\n",
       "      <td>112</td>\n",
       "      <td>1</td>\n",
       "      <td>3</td>\n",
       "      <td>2</td>\n",
       "      <td>1</td>\n",
       "    </tr>\n",
       "    <tr>\n",
       "      <th>1</th>\n",
       "      <td>44</td>\n",
       "      <td>1</td>\n",
       "      <td>4</td>\n",
       "      <td>130</td>\n",
       "      <td>209</td>\n",
       "      <td>0</td>\n",
       "      <td>1</td>\n",
       "      <td>127</td>\n",
       "      <td>0</td>\n",
       "      <td>0</td>\n",
       "      <td>NaN</td>\n",
       "      <td>0</td>\n",
       "    </tr>\n",
       "    <tr>\n",
       "      <th>2</th>\n",
       "      <td>60</td>\n",
       "      <td>1</td>\n",
       "      <td>4</td>\n",
       "      <td>132</td>\n",
       "      <td>218</td>\n",
       "      <td>0</td>\n",
       "      <td>1</td>\n",
       "      <td>140</td>\n",
       "      <td>1</td>\n",
       "      <td>1.5</td>\n",
       "      <td>3</td>\n",
       "      <td>1</td>\n",
       "    </tr>\n",
       "    <tr>\n",
       "      <th>3</th>\n",
       "      <td>55</td>\n",
       "      <td>1</td>\n",
       "      <td>4</td>\n",
       "      <td>142</td>\n",
       "      <td>228</td>\n",
       "      <td>0</td>\n",
       "      <td>1</td>\n",
       "      <td>149</td>\n",
       "      <td>1</td>\n",
       "      <td>2.5</td>\n",
       "      <td>1</td>\n",
       "      <td>1</td>\n",
       "    </tr>\n",
       "    <tr>\n",
       "      <th>4</th>\n",
       "      <td>66</td>\n",
       "      <td>1</td>\n",
       "      <td>3</td>\n",
       "      <td>110</td>\n",
       "      <td>213</td>\n",
       "      <td>1</td>\n",
       "      <td>2</td>\n",
       "      <td>99</td>\n",
       "      <td>1</td>\n",
       "      <td>1.3</td>\n",
       "      <td>2</td>\n",
       "      <td>0</td>\n",
       "    </tr>\n",
       "    <tr>\n",
       "      <th>...</th>\n",
       "      <td>...</td>\n",
       "      <td>...</td>\n",
       "      <td>...</td>\n",
       "      <td>...</td>\n",
       "      <td>...</td>\n",
       "      <td>...</td>\n",
       "      <td>...</td>\n",
       "      <td>...</td>\n",
       "      <td>...</td>\n",
       "      <td>...</td>\n",
       "      <td>...</td>\n",
       "      <td>...</td>\n",
       "    </tr>\n",
       "    <tr>\n",
       "      <th>195</th>\n",
       "      <td>54</td>\n",
       "      <td>0</td>\n",
       "      <td>4</td>\n",
       "      <td>127</td>\n",
       "      <td>333</td>\n",
       "      <td>1</td>\n",
       "      <td>1</td>\n",
       "      <td>154</td>\n",
       "      <td>0</td>\n",
       "      <td>0</td>\n",
       "      <td>NaN</td>\n",
       "      <td>1</td>\n",
       "    </tr>\n",
       "    <tr>\n",
       "      <th>196</th>\n",
       "      <td>62</td>\n",
       "      <td>1</td>\n",
       "      <td>1</td>\n",
       "      <td>NaN</td>\n",
       "      <td>139</td>\n",
       "      <td>0</td>\n",
       "      <td>1</td>\n",
       "      <td>NaN</td>\n",
       "      <td>NaN</td>\n",
       "      <td>NaN</td>\n",
       "      <td>NaN</td>\n",
       "      <td>0</td>\n",
       "    </tr>\n",
       "    <tr>\n",
       "      <th>197</th>\n",
       "      <td>55</td>\n",
       "      <td>1</td>\n",
       "      <td>4</td>\n",
       "      <td>122</td>\n",
       "      <td>223</td>\n",
       "      <td>1</td>\n",
       "      <td>1</td>\n",
       "      <td>100</td>\n",
       "      <td>0</td>\n",
       "      <td>0</td>\n",
       "      <td>NaN</td>\n",
       "      <td>1</td>\n",
       "    </tr>\n",
       "    <tr>\n",
       "      <th>198</th>\n",
       "      <td>58</td>\n",
       "      <td>1</td>\n",
       "      <td>4</td>\n",
       "      <td>NaN</td>\n",
       "      <td>385</td>\n",
       "      <td>1</td>\n",
       "      <td>2</td>\n",
       "      <td>NaN</td>\n",
       "      <td>NaN</td>\n",
       "      <td>NaN</td>\n",
       "      <td>NaN</td>\n",
       "      <td>0</td>\n",
       "    </tr>\n",
       "    <tr>\n",
       "      <th>199</th>\n",
       "      <td>62</td>\n",
       "      <td>1</td>\n",
       "      <td>2</td>\n",
       "      <td>120</td>\n",
       "      <td>254</td>\n",
       "      <td>0</td>\n",
       "      <td>2</td>\n",
       "      <td>93</td>\n",
       "      <td>1</td>\n",
       "      <td>0</td>\n",
       "      <td>NaN</td>\n",
       "      <td>1</td>\n",
       "    </tr>\n",
       "  </tbody>\n",
       "</table>\n",
       "<p>200 rows × 12 columns</p>\n",
       "</div>"
      ],
      "text/plain": [
       "     age  sex  cp trestbps chol fbs  restecg thalach exang oldpeak slope  num\n",
       "0     63    1   4      140  260   0        1     112     1       3     2    1\n",
       "1     44    1   4      130  209   0        1     127     0       0   NaN    0\n",
       "2     60    1   4      132  218   0        1     140     1     1.5     3    1\n",
       "3     55    1   4      142  228   0        1     149     1     2.5     1    1\n",
       "4     66    1   3      110  213   1        2      99     1     1.3     2    0\n",
       "..   ...  ...  ..      ...  ...  ..      ...     ...   ...     ...   ...  ...\n",
       "195   54    0   4      127  333   1        1     154     0       0   NaN    1\n",
       "196   62    1   1      NaN  139   0        1     NaN   NaN     NaN   NaN    0\n",
       "197   55    1   4      122  223   1        1     100     0       0   NaN    1\n",
       "198   58    1   4      NaN  385   1        2     NaN   NaN     NaN   NaN    0\n",
       "199   62    1   2      120  254   0        2      93     1       0   NaN    1\n",
       "\n",
       "[200 rows x 12 columns]"
      ]
     },
     "execution_count": 12,
     "metadata": {},
     "output_type": "execute_result"
    }
   ],
   "source": [
    "df"
   ]
  },
  {
   "cell_type": "code",
   "execution_count": 13,
   "metadata": {},
   "outputs": [],
   "source": [
    "#convert the column into numeric data type\n",
    "df['trestbps']= df['trestbps'].astype(float)\n",
    "df['chol']= df['chol'].astype(float)\n",
    "df['fbs']= df['fbs'].astype(float)\n",
    "df['thalach']= df['thalach'].astype(float)\n",
    "df['exang']= df['exang'].astype(float)\n",
    "df['oldpeak']= df['oldpeak'].astype(float)\n",
    "df['slope']= df['slope'].astype(float)\n"
   ]
  },
  {
   "cell_type": "code",
   "execution_count": 14,
   "metadata": {},
   "outputs": [
    {
     "data": {
      "text/html": [
       "<div>\n",
       "<style scoped>\n",
       "    .dataframe tbody tr th:only-of-type {\n",
       "        vertical-align: middle;\n",
       "    }\n",
       "\n",
       "    .dataframe tbody tr th {\n",
       "        vertical-align: top;\n",
       "    }\n",
       "\n",
       "    .dataframe thead th {\n",
       "        text-align: right;\n",
       "    }\n",
       "</style>\n",
       "<table border=\"1\" class=\"dataframe\">\n",
       "  <thead>\n",
       "    <tr style=\"text-align: right;\">\n",
       "      <th></th>\n",
       "      <th>age</th>\n",
       "      <th>sex</th>\n",
       "      <th>cp</th>\n",
       "      <th>trestbps</th>\n",
       "      <th>chol</th>\n",
       "      <th>fbs</th>\n",
       "      <th>restecg</th>\n",
       "      <th>thalach</th>\n",
       "      <th>exang</th>\n",
       "      <th>oldpeak</th>\n",
       "      <th>slope</th>\n",
       "      <th>num</th>\n",
       "    </tr>\n",
       "  </thead>\n",
       "  <tbody>\n",
       "    <tr>\n",
       "      <th>count</th>\n",
       "      <td>200.000000</td>\n",
       "      <td>200.000000</td>\n",
       "      <td>200.000000</td>\n",
       "      <td>144.000000</td>\n",
       "      <td>193.000000</td>\n",
       "      <td>193.000000</td>\n",
       "      <td>200.000000</td>\n",
       "      <td>147.000000</td>\n",
       "      <td>147.000000</td>\n",
       "      <td>144.000000</td>\n",
       "      <td>98.000000</td>\n",
       "      <td>200.000000</td>\n",
       "    </tr>\n",
       "    <tr>\n",
       "      <th>mean</th>\n",
       "      <td>59.350000</td>\n",
       "      <td>0.970000</td>\n",
       "      <td>3.505000</td>\n",
       "      <td>133.763889</td>\n",
       "      <td>178.746114</td>\n",
       "      <td>0.352332</td>\n",
       "      <td>0.735000</td>\n",
       "      <td>122.795918</td>\n",
       "      <td>0.646259</td>\n",
       "      <td>1.320833</td>\n",
       "      <td>2.132653</td>\n",
       "      <td>0.745000</td>\n",
       "    </tr>\n",
       "    <tr>\n",
       "      <th>std</th>\n",
       "      <td>7.811697</td>\n",
       "      <td>0.171015</td>\n",
       "      <td>0.795701</td>\n",
       "      <td>21.537733</td>\n",
       "      <td>114.035232</td>\n",
       "      <td>0.478939</td>\n",
       "      <td>0.683455</td>\n",
       "      <td>21.990328</td>\n",
       "      <td>0.479765</td>\n",
       "      <td>1.106236</td>\n",
       "      <td>0.667937</td>\n",
       "      <td>0.436955</td>\n",
       "    </tr>\n",
       "    <tr>\n",
       "      <th>min</th>\n",
       "      <td>35.000000</td>\n",
       "      <td>0.000000</td>\n",
       "      <td>1.000000</td>\n",
       "      <td>0.000000</td>\n",
       "      <td>0.000000</td>\n",
       "      <td>0.000000</td>\n",
       "      <td>0.000000</td>\n",
       "      <td>69.000000</td>\n",
       "      <td>0.000000</td>\n",
       "      <td>-0.500000</td>\n",
       "      <td>1.000000</td>\n",
       "      <td>0.000000</td>\n",
       "    </tr>\n",
       "    <tr>\n",
       "      <th>25%</th>\n",
       "      <td>55.000000</td>\n",
       "      <td>1.000000</td>\n",
       "      <td>3.000000</td>\n",
       "      <td>120.000000</td>\n",
       "      <td>0.000000</td>\n",
       "      <td>0.000000</td>\n",
       "      <td>0.000000</td>\n",
       "      <td>109.000000</td>\n",
       "      <td>0.000000</td>\n",
       "      <td>0.000000</td>\n",
       "      <td>2.000000</td>\n",
       "      <td>0.000000</td>\n",
       "    </tr>\n",
       "    <tr>\n",
       "      <th>50%</th>\n",
       "      <td>60.000000</td>\n",
       "      <td>1.000000</td>\n",
       "      <td>4.000000</td>\n",
       "      <td>130.000000</td>\n",
       "      <td>216.000000</td>\n",
       "      <td>0.000000</td>\n",
       "      <td>1.000000</td>\n",
       "      <td>120.000000</td>\n",
       "      <td>1.000000</td>\n",
       "      <td>1.500000</td>\n",
       "      <td>2.000000</td>\n",
       "      <td>1.000000</td>\n",
       "    </tr>\n",
       "    <tr>\n",
       "      <th>75%</th>\n",
       "      <td>64.000000</td>\n",
       "      <td>1.000000</td>\n",
       "      <td>4.000000</td>\n",
       "      <td>147.000000</td>\n",
       "      <td>258.000000</td>\n",
       "      <td>1.000000</td>\n",
       "      <td>1.000000</td>\n",
       "      <td>140.000000</td>\n",
       "      <td>1.000000</td>\n",
       "      <td>2.000000</td>\n",
       "      <td>3.000000</td>\n",
       "      <td>1.000000</td>\n",
       "    </tr>\n",
       "    <tr>\n",
       "      <th>max</th>\n",
       "      <td>77.000000</td>\n",
       "      <td>1.000000</td>\n",
       "      <td>4.000000</td>\n",
       "      <td>190.000000</td>\n",
       "      <td>458.000000</td>\n",
       "      <td>1.000000</td>\n",
       "      <td>2.000000</td>\n",
       "      <td>180.000000</td>\n",
       "      <td>1.000000</td>\n",
       "      <td>4.000000</td>\n",
       "      <td>3.000000</td>\n",
       "      <td>1.000000</td>\n",
       "    </tr>\n",
       "  </tbody>\n",
       "</table>\n",
       "</div>"
      ],
      "text/plain": [
       "              age         sex          cp    trestbps        chol         fbs  \\\n",
       "count  200.000000  200.000000  200.000000  144.000000  193.000000  193.000000   \n",
       "mean    59.350000    0.970000    3.505000  133.763889  178.746114    0.352332   \n",
       "std      7.811697    0.171015    0.795701   21.537733  114.035232    0.478939   \n",
       "min     35.000000    0.000000    1.000000    0.000000    0.000000    0.000000   \n",
       "25%     55.000000    1.000000    3.000000  120.000000    0.000000    0.000000   \n",
       "50%     60.000000    1.000000    4.000000  130.000000  216.000000    0.000000   \n",
       "75%     64.000000    1.000000    4.000000  147.000000  258.000000    1.000000   \n",
       "max     77.000000    1.000000    4.000000  190.000000  458.000000    1.000000   \n",
       "\n",
       "          restecg     thalach       exang     oldpeak      slope         num  \n",
       "count  200.000000  147.000000  147.000000  144.000000  98.000000  200.000000  \n",
       "mean     0.735000  122.795918    0.646259    1.320833   2.132653    0.745000  \n",
       "std      0.683455   21.990328    0.479765    1.106236   0.667937    0.436955  \n",
       "min      0.000000   69.000000    0.000000   -0.500000   1.000000    0.000000  \n",
       "25%      0.000000  109.000000    0.000000    0.000000   2.000000    0.000000  \n",
       "50%      1.000000  120.000000    1.000000    1.500000   2.000000    1.000000  \n",
       "75%      1.000000  140.000000    1.000000    2.000000   3.000000    1.000000  \n",
       "max      2.000000  180.000000    1.000000    4.000000   3.000000    1.000000  "
      ]
     },
     "execution_count": 14,
     "metadata": {},
     "output_type": "execute_result"
    }
   ],
   "source": [
    "#statistical summary\n",
    "df.describe()"
   ]
  },
  {
   "cell_type": "markdown",
   "metadata": {},
   "source": [
    "#observation\n",
    "1. there are some missing values in the columns trestbps,chol,thalach,exang,oldpeak,slope.\n",
    "2. there could be outliers in the column chol. we will validate this further.\n",
    "3. in the column chol the mean is less than median value."
   ]
  },
  {
   "cell_type": "code",
   "execution_count": 15,
   "metadata": {},
   "outputs": [
    {
     "data": {
      "image/png": "[encoded data removed]",
      "text/plain": [
       "<Figure size 432x288 with 1 Axes>"
      ]
     },
     "metadata": {
      "needs_background": "light"
     },
     "output_type": "display_data"
    }
   ],
   "source": [
    "#plot of target \n",
    "sns.countplot(x=\"num\",data =df)\n",
    "plt.show()"
   ]
  },
  {
   "cell_type": "markdown",
   "metadata": {},
   "source": [
    "#the plot shows that there less people suffering ffrom heart disease."
   ]
  },
  {
   "cell_type": "code",
   "execution_count": 16,
   "metadata": {},
   "outputs": [
    {
     "data": {
      "image/png": "[encoded data removed]",
      "text/plain": [
       "<Figure size 432x288 with 1 Axes>"
      ]
     },
     "metadata": {
      "needs_background": "light"
     },
     "output_type": "display_data"
    }
   ],
   "source": [
    "#plot of target wrt cp\n",
    "sns.countplot(x= 'cp',data=df,hue='num')\n",
    "plt.show()"
   ]
  },
  {
   "cell_type": "markdown",
   "metadata": {},
   "source": [
    "#the plot shows that people with chest pain 4 are more prone to heart disease"
   ]
  },
  {
   "cell_type": "code",
   "execution_count": 17,
   "metadata": {},
   "outputs": [
    {
     "data": {
      "image/png": "[encoded data removed]",
      "text/plain": [
       "<Figure size 432x288 with 1 Axes>"
      ]
     },
     "metadata": {
      "needs_background": "light"
     },
     "output_type": "display_data"
    }
   ],
   "source": [
    "#plot of target wrt age and sex\n",
    "sns.barplot(data = df, y = 'age', x = 'sex', hue = 'num')\n",
    "plt.title('plot of age vs sex with the target class')\n",
    "plt.show()"
   ]
  },
  {
   "cell_type": "code",
   "execution_count": 18,
   "metadata": {},
   "outputs": [
    {
     "data": {
      "image/png": "[encoded data removed]",
      "text/plain": [
       "<Figure size 432x288 with 1 Axes>"
      ]
     },
     "metadata": {
      "needs_background": "light"
     },
     "output_type": "display_data"
    }
   ],
   "source": [
    "#plot of target wrt fbs\n",
    "sns.countplot(x= 'fbs',hue=\"num\",data = df)\n",
    "plt.show()"
   ]
  },
  {
   "cell_type": "raw",
   "metadata": {},
   "source": [
    "# the plot shows that FBS with type 0 are suffereing from heart disease comapred to type 1."
   ]
  },
  {
   "cell_type": "code",
   "execution_count": 19,
   "metadata": {},
   "outputs": [
    {
     "data": {
      "image/png": "[encoded data removed]",
      "text/plain": [
       "<Figure size 432x288 with 1 Axes>"
      ]
     },
     "metadata": {
      "needs_background": "light"
     },
     "output_type": "display_data"
    }
   ],
   "source": [
    "#plot of target wrt restecg\n",
    "sns.countplot(x= 'restecg',hue=\"num\",data = df)\n",
    "plt.show()"
   ]
  },
  {
   "cell_type": "markdown",
   "metadata": {},
   "source": [
    "#the plots shows that restecg with type 0 & 1 are suffering from heart disease compared to type 2."
   ]
  },
  {
   "cell_type": "code",
   "execution_count": 20,
   "metadata": {},
   "outputs": [
    {
     "data": {
      "image/png": "[encoded data removed]",
      "text/plain": [
       "<Figure size 432x288 with 1 Axes>"
      ]
     },
     "metadata": {
      "needs_background": "light"
     },
     "output_type": "display_data"
    }
   ],
   "source": [
    "#plot of target wrt exang\n",
    "sns.countplot(x= 'exang',hue=\"num\",data = df)\n",
    "plt.show()"
   ]
  },
  {
   "cell_type": "markdown",
   "metadata": {},
   "source": [
    "#the plot shows that the exang with type 1 are suffering from heart disease more as compared to type 0."
   ]
  },
  {
   "cell_type": "code",
   "execution_count": 21,
   "metadata": {},
   "outputs": [
    {
     "data": {
      "image/png": "[encoded data removed]",
      "text/plain": [
       "<Figure size 432x288 with 1 Axes>"
      ]
     },
     "metadata": {
      "needs_background": "light"
     },
     "output_type": "display_data"
    }
   ],
   "source": [
    "#plot of target wrt slope\n",
    "sns.countplot(x= 'slope',hue=\"num\",data = df)\n",
    "plt.show()"
   ]
  },
  {
   "cell_type": "raw",
   "metadata": {},
   "source": [
    "# the plot shows that the people with more heart disease are from slope type 2."
   ]
  },
  {
   "cell_type": "code",
   "execution_count": 22,
   "metadata": {},
   "outputs": [
    {
     "data": {
      "text/plain": [
       "<matplotlib.axes._subplots.AxesSubplot at 0x21e1da47340>"
      ]
     },
     "execution_count": 22,
     "metadata": {},
     "output_type": "execute_result"
    },
    {
     "data": {
      "image/png": "[encoded data removed]",
      "text/plain": [
       "<Figure size 720x576 with 2 Axes>"
      ]
     },
     "metadata": {
      "needs_background": "light"
     },
     "output_type": "display_data"
    }
   ],
   "source": [
    "dfcorr = df.corr()\n",
    "plt.figure(figsize=(10,8))\n",
    "sns.heatmap(dfcorr,annot = True,linewidth = 0.5)"
   ]
  },
  {
   "cell_type": "markdown",
   "metadata": {},
   "source": [
    "#observation\n",
    "1.all the columns are weakly correlated with target column i.e 'num'."
   ]
  },
  {
   "cell_type": "code",
   "execution_count": 23,
   "metadata": {},
   "outputs": [
    {
     "name": "stdout",
     "output_type": "stream",
     "text": [
      "[ 0.  1. nan]\n",
      "[4 3 2 1]\n",
      "[ 2. nan  3.  1.]\n",
      "[ 1.  0. nan]\n"
     ]
    }
   ],
   "source": [
    "#finding the unique values \n",
    "print(df['fbs'].unique())\n",
    "print(df['cp'].unique())\n",
    "print(df['slope'].unique())\n",
    "print(df['exang'].unique())"
   ]
  },
  {
   "cell_type": "code",
   "execution_count": 24,
   "metadata": {},
   "outputs": [],
   "source": [
    "#filling the null values of the dataset\n",
    "df['trestbps'] = df.trestbps.fillna(df.trestbps.mean())\n",
    "df['chol'] = df.chol.fillna(df.chol.mean())\n",
    "df['thalach'] = df.thalach.fillna(df.thalach.mean())\n",
    "df['oldpeak'] = df.oldpeak.fillna(df.oldpeak.mean())"
   ]
  },
  {
   "cell_type": "code",
   "execution_count": 25,
   "metadata": {},
   "outputs": [
    {
     "data": {
      "text/plain": [
       "0.0    125\n",
       "1.0     68\n",
       "Name: fbs, dtype: int64"
      ]
     },
     "execution_count": 25,
     "metadata": {},
     "output_type": "execute_result"
    }
   ],
   "source": [
    "df['fbs'].value_counts()"
   ]
  },
  {
   "cell_type": "code",
   "execution_count": 26,
   "metadata": {},
   "outputs": [
    {
     "data": {
      "text/plain": [
       "1.0    95\n",
       "0.0    52\n",
       "Name: exang, dtype: int64"
      ]
     },
     "execution_count": 26,
     "metadata": {},
     "output_type": "execute_result"
    }
   ],
   "source": [
    "df['exang'].value_counts()"
   ]
  },
  {
   "cell_type": "code",
   "execution_count": 27,
   "metadata": {},
   "outputs": [
    {
     "data": {
      "text/plain": [
       "2.0    53\n",
       "3.0    29\n",
       "1.0    16\n",
       "Name: slope, dtype: int64"
      ]
     },
     "execution_count": 27,
     "metadata": {},
     "output_type": "execute_result"
    }
   ],
   "source": [
    "df['slope'].value_counts()"
   ]
  },
  {
   "cell_type": "code",
   "execution_count": 28,
   "metadata": {},
   "outputs": [],
   "source": [
    "#replacing the nullvalues with most repeated value\n",
    "df['fbs'] = df['fbs'].replace(np.NaN,0.0)\n",
    "df['exang'] = df['exang'].replace(np.NaN,1.0)\n",
    "df['slope'] = df['slope'].replace(np.NaN,2.0)"
   ]
  },
  {
   "cell_type": "code",
   "execution_count": 29,
   "metadata": {},
   "outputs": [
    {
     "data": {
      "text/plain": [
       "age         0\n",
       "sex         0\n",
       "cp          0\n",
       "trestbps    0\n",
       "chol        0\n",
       "fbs         0\n",
       "restecg     0\n",
       "thalach     0\n",
       "exang       0\n",
       "oldpeak     0\n",
       "slope       0\n",
       "num         0\n",
       "dtype: int64"
      ]
     },
     "execution_count": 29,
     "metadata": {},
     "output_type": "execute_result"
    }
   ],
   "source": [
    "#checking again for null values\n",
    "df.isnull().sum()"
   ]
  },
  {
   "cell_type": "code",
   "execution_count": 30,
   "metadata": {},
   "outputs": [],
   "source": [
    "from scipy.stats import zscore\n",
    "import numpy as np\n",
    "z = np.abs(zscore(df))\n",
    "threshold = 3\n",
    "new_df = df[(z<3).all(axis=1)]"
   ]
  },
  {
   "cell_type": "code",
   "execution_count": 31,
   "metadata": {},
   "outputs": [
    {
     "name": "stdout",
     "output_type": "stream",
     "text": [
      "(200, 12)\n"
     ]
    },
    {
     "data": {
      "text/plain": [
       "(181, 12)"
      ]
     },
     "execution_count": 31,
     "metadata": {},
     "output_type": "execute_result"
    }
   ],
   "source": [
    "print(df.shape)\n",
    "new_df.shape"
   ]
  },
  {
   "cell_type": "code",
   "execution_count": 32,
   "metadata": {},
   "outputs": [
    {
     "data": {
      "text/plain": [
       "age        -0.404091\n",
       "sex        -5.552105\n",
       "cp         -1.648734\n",
       "trestbps   -1.511363\n",
       "chol       -0.571879\n",
       "fbs         0.680636\n",
       "restecg     0.391463\n",
       "thalach     0.148515\n",
       "exang      -1.102593\n",
       "oldpeak     0.423414\n",
       "slope       0.210521\n",
       "num        -1.132724\n",
       "dtype: float64"
      ]
     },
     "execution_count": 32,
     "metadata": {},
     "output_type": "execute_result"
    }
   ],
   "source": [
    "#check the skewness\n",
    "df.skew()"
   ]
  },
  {
   "cell_type": "markdown",
   "metadata": {},
   "source": [
    "#### preparing dataset for training"
   ]
  },
  {
   "cell_type": "code",
   "execution_count": 33,
   "metadata": {},
   "outputs": [],
   "source": [
    "x = df.drop(\"num\",axis=1)\n",
    "y = df['num']"
   ]
  },
  {
   "cell_type": "code",
   "execution_count": 34,
   "metadata": {},
   "outputs": [
    {
     "name": "stdout",
     "output_type": "stream",
     "text": [
      "(200, 11)\n",
      "(200,)\n"
     ]
    }
   ],
   "source": [
    "print(x.shape)\n",
    "print(y.shape)"
   ]
  },
  {
   "cell_type": "code",
   "execution_count": 35,
   "metadata": {},
   "outputs": [],
   "source": [
    "#Scaling the data using StandardScaler\n",
    "from sklearn.preprocessing import StandardScaler\n",
    "sc = StandardScaler()\n",
    "scaledx = sc.fit_transform(x)"
   ]
  },
  {
   "cell_type": "markdown",
   "metadata": {},
   "source": [
    "##### finding the best model"
   ]
  },
  {
   "cell_type": "code",
   "execution_count": 36,
   "metadata": {},
   "outputs": [],
   "source": [
    "from sklearn.model_selection import train_test_split\n",
    "from sklearn.linear_model import LogisticRegression\n",
    "from sklearn.neighbors import KNeighborsClassifier\n",
    "from sklearn.svm import SVC\n",
    "from sklearn.tree import DecisionTreeClassifier\n",
    "from sklearn.model_selection import cross_val_score\n",
    "from sklearn.metrics import accuracy_score,classification_report,roc_auc_score,confusion_matrix"
   ]
  },
  {
   "cell_type": "code",
   "execution_count": 37,
   "metadata": {},
   "outputs": [],
   "source": [
    "#we have built a function of model \n",
    "def max_aucroc_score(clf,scaledx,y):\n",
    "    max_aucroc_score=0\n",
    "    for r_state in range(42,100):\n",
    "        x_train, x_test, y_train, y_test = train_test_split(scaledx, y,random_state = r_state,test_size=0.2)\n",
    "        clf.fit(x_train,y_train)\n",
    "        y_pred = clf.predict(x_test)\n",
    "        aucroc_scr=roc_auc_score(y_test,y_pred)\n",
    "        print(\"auc roc score corresponding to \",r_state,\" is \",aucroc_scr)\n",
    "        if aucroc_scr>max_aucroc_score:\n",
    "            max_aucroc_score=aucroc_scr\n",
    "            final_r_state=r_state\n",
    "    print(\"max auc roc score corresponding to \",final_r_state,\" is \",max_aucroc_score)\n",
    "    return final_r_state"
   ]
  },
  {
   "cell_type": "code",
   "execution_count": 38,
   "metadata": {},
   "outputs": [
    {
     "name": "stdout",
     "output_type": "stream",
     "text": [
      "auc roc score corresponding to  42  is  0.640625\n",
      "auc roc score corresponding to  43  is  0.6018808777429467\n",
      "auc roc score corresponding to  44  is  0.5627240143369175\n",
      "auc roc score corresponding to  45  is  0.5846394984326019\n",
      "auc roc score corresponding to  46  is  0.49725274725274726\n",
      "auc roc score corresponding to  47  is  0.6018808777429467\n",
      "auc roc score corresponding to  48  is  0.567398119122257\n",
      "auc roc score corresponding to  49  is  0.48290598290598286\n",
      "auc roc score corresponding to  50  is  0.5232974910394265\n",
      "auc roc score corresponding to  51  is  0.5654761904761905\n",
      "auc roc score corresponding to  52  is  0.5413105413105412\n",
      "auc roc score corresponding to  53  is  0.5454545454545454\n",
      "auc roc score corresponding to  54  is  0.683982683982684\n",
      "auc roc score corresponding to  55  is  0.5564263322884012\n",
      "auc roc score corresponding to  56  is  0.5304659498207885\n",
      "auc roc score corresponding to  57  is  0.6344086021505376\n",
      "auc roc score corresponding to  58  is  0.6021505376344086\n",
      "auc roc score corresponding to  59  is  0.5612535612535613\n",
      "auc roc score corresponding to  60  is  0.5714285714285714\n",
      "auc roc score corresponding to  61  is  0.53125\n",
      "auc roc score corresponding to  62  is  0.5\n",
      "auc roc score corresponding to  63  is  0.6875\n",
      "auc roc score corresponding to  64  is  0.59375\n",
      "auc roc score corresponding to  65  is  0.557142857142857\n",
      "auc roc score corresponding to  66  is  0.4642857142857143\n",
      "auc roc score corresponding to  67  is  0.6182795698924731\n",
      "auc roc score corresponding to  68  is  0.6125541125541125\n",
      "auc roc score corresponding to  69  is  0.6125541125541125\n",
      "auc roc score corresponding to  70  is  0.5392156862745098\n",
      "auc roc score corresponding to  71  is  0.48809523809523814\n",
      "auc roc score corresponding to  72  is  0.5391849529780564\n",
      "auc roc score corresponding to  73  is  0.5666666666666667\n",
      "auc roc score corresponding to  74  is  0.5625\n",
      "auc roc score corresponding to  75  is  0.5625\n",
      "auc roc score corresponding to  76  is  0.7166666666666667\n",
      "auc roc score corresponding to  77  is  0.671875\n",
      "auc roc score corresponding to  78  is  0.5266666666666667\n",
      "auc roc score corresponding to  79  is  0.7000000000000001\n",
      "auc roc score corresponding to  80  is  0.5783475783475783\n",
      "auc roc score corresponding to  81  is  0.5333333333333333\n",
      "auc roc score corresponding to  82  is  0.5219435736677116\n",
      "auc roc score corresponding to  83  is  0.6428571428571428\n",
      "auc roc score corresponding to  84  is  0.5411255411255412\n",
      "auc roc score corresponding to  85  is  0.5137362637362638\n",
      "auc roc score corresponding to  86  is  0.5952380952380953\n",
      "auc roc score corresponding to  87  is  0.5367965367965368\n",
      "auc roc score corresponding to  88  is  0.4666666666666667\n",
      "auc roc score corresponding to  89  is  0.5333333333333333\n",
      "auc roc score corresponding to  90  is  0.4956709956709957\n",
      "auc roc score corresponding to  91  is  0.5282131661442007\n",
      "auc roc score corresponding to  92  is  0.6875\n",
      "auc roc score corresponding to  93  is  0.5297619047619048\n",
      "auc roc score corresponding to  94  is  0.6082251082251082\n",
      "auc roc score corresponding to  95  is  0.5521978021978022\n",
      "auc roc score corresponding to  96  is  0.58\n",
      "auc roc score corresponding to  97  is  0.6168091168091168\n",
      "auc roc score corresponding to  98  is  0.49725274725274726\n",
      "auc roc score corresponding to  99  is  0.6166666666666667\n",
      "max auc roc score corresponding to  76  is  0.7166666666666667\n"
     ]
    },
    {
     "data": {
      "text/plain": [
       "76"
      ]
     },
     "execution_count": 38,
     "metadata": {},
     "output_type": "execute_result"
    }
   ],
   "source": [
    "lg=LogisticRegression()\n",
    "max_aucroc_score(lg,scaledx,y)"
   ]
  },
  {
   "cell_type": "code",
   "execution_count": 39,
   "metadata": {},
   "outputs": [
    {
     "name": "stdout",
     "output_type": "stream",
     "text": [
      "Mean roc auc score for logistic classifier:  0.720637408568443\n",
      "standard deviation in roc auc score for logistic classifier:  0.06615968625934952\n",
      "[0.64       0.82666667 0.68666667 0.76333333 0.68652038]\n"
     ]
    }
   ],
   "source": [
    "#lets use cross_val_score\n",
    "from sklearn.model_selection import cross_val_score\n",
    "print(\"Mean roc auc score for logistic classifier: \",cross_val_score(lg,scaledx,y,cv=5,scoring=\"roc_auc\").mean())\n",
    "print(\"standard deviation in roc auc score for logistic classifier: \",cross_val_score(lg,scaledx,y,cv=5,scoring=\"roc_auc\").std())\n",
    "print(cross_val_score(lg,scaledx,y,cv=5,scoring=\"roc_auc\"))"
   ]
  },
  {
   "cell_type": "code",
   "execution_count": 40,
   "metadata": {},
   "outputs": [
    {
     "name": "stdout",
     "output_type": "stream",
     "text": [
      "auc roc score corresponding to  42  is  0.546875\n",
      "auc roc score corresponding to  43  is  0.5156739811912225\n",
      "auc roc score corresponding to  44  is  0.482078853046595\n",
      "auc roc score corresponding to  45  is  0.7601880877742947\n",
      "auc roc score corresponding to  46  is  0.6181318681318682\n",
      "auc roc score corresponding to  47  is  0.6974921630094044\n",
      "auc roc score corresponding to  48  is  0.44043887147335425\n",
      "auc roc score corresponding to  49  is  0.4658119658119658\n",
      "auc roc score corresponding to  50  is  0.521505376344086\n",
      "auc roc score corresponding to  51  is  0.5833333333333333\n",
      "auc roc score corresponding to  52  is  0.4857549857549857\n",
      "auc roc score corresponding to  53  is  0.658307210031348\n",
      "auc roc score corresponding to  54  is  0.6082251082251082\n",
      "auc roc score corresponding to  55  is  0.6300940438871474\n",
      "auc roc score corresponding to  56  is  0.521505376344086\n",
      "auc roc score corresponding to  57  is  0.5931899641577061\n",
      "auc roc score corresponding to  58  is  0.6720430107526882\n",
      "auc roc score corresponding to  59  is  0.6396011396011396\n",
      "auc roc score corresponding to  60  is  0.751082251082251\n",
      "auc roc score corresponding to  61  is  0.53125\n",
      "auc roc score corresponding to  62  is  0.6166666666666667\n",
      "auc roc score corresponding to  63  is  0.671875\n",
      "auc roc score corresponding to  64  is  0.609375\n",
      "auc roc score corresponding to  65  is  0.6571428571428573\n",
      "auc roc score corresponding to  66  is  0.4583333333333333\n",
      "auc roc score corresponding to  67  is  0.8637992831541219\n",
      "auc roc score corresponding to  68  is  0.7056277056277056\n",
      "auc roc score corresponding to  69  is  0.735930735930736\n",
      "auc roc score corresponding to  70  is  0.6470588235294117\n",
      "auc roc score corresponding to  71  is  0.6190476190476191\n",
      "auc roc score corresponding to  72  is  0.5266457680250783\n",
      "auc roc score corresponding to  73  is  0.65\n",
      "auc roc score corresponding to  74  is  0.5\n",
      "auc roc score corresponding to  75  is  0.5625\n",
      "auc roc score corresponding to  76  is  0.6\n",
      "auc roc score corresponding to  77  is  0.6875\n",
      "auc roc score corresponding to  78  is  0.5066666666666668\n",
      "auc roc score corresponding to  79  is  0.5333333333333333\n",
      "auc roc score corresponding to  80  is  0.5598290598290598\n",
      "auc roc score corresponding to  81  is  0.5833333333333334\n",
      "auc roc score corresponding to  82  is  0.5893416927899686\n",
      "auc roc score corresponding to  83  is  0.6493506493506493\n",
      "auc roc score corresponding to  84  is  0.5476190476190477\n",
      "auc roc score corresponding to  85  is  0.6923076923076923\n",
      "auc roc score corresponding to  86  is  0.6130952380952381\n",
      "auc roc score corresponding to  87  is  0.6753246753246753\n",
      "auc roc score corresponding to  88  is  0.4666666666666667\n",
      "auc roc score corresponding to  89  is  0.7\n",
      "auc roc score corresponding to  90  is  0.7619047619047619\n",
      "auc roc score corresponding to  91  is  0.46394984326018807\n",
      "auc roc score corresponding to  92  is  0.59375\n",
      "auc roc score corresponding to  93  is  0.4107142857142857\n",
      "auc roc score corresponding to  94  is  0.6645021645021645\n",
      "auc roc score corresponding to  95  is  0.5604395604395604\n",
      "auc roc score corresponding to  96  is  0.52\n",
      "auc roc score corresponding to  97  is  0.5997150997150997\n",
      "auc roc score corresponding to  98  is  0.5467032967032968\n",
      "auc roc score corresponding to  99  is  0.7000000000000001\n",
      "max auc roc score corresponding to  67  is  0.8637992831541219\n"
     ]
    },
    {
     "data": {
      "text/plain": [
       "67"
      ]
     },
     "execution_count": 40,
     "metadata": {},
     "output_type": "execute_result"
    }
   ],
   "source": [
    "from sklearn.tree import DecisionTreeClassifier\n",
    "dtc=DecisionTreeClassifier()\n",
    "max_aucroc_score(dtc,scaledx,y)"
   ]
  },
  {
   "cell_type": "code",
   "execution_count": 41,
   "metadata": {},
   "outputs": [
    {
     "name": "stdout",
     "output_type": "stream",
     "text": [
      "Mean auc roc score for decision tree classifier:  0.622110762800418\n",
      "standard deviation in auc roc score for decision tree classifier:  0.060038560197826746\n",
      "[0.68333333 0.68333333 0.76666667 0.53333333 0.4984326 ]\n"
     ]
    }
   ],
   "source": [
    "print(\"Mean auc roc score for decision tree classifier: \",cross_val_score(dtc,scaledx,y,cv=5,scoring=\"roc_auc\").mean())\n",
    "print(\"standard deviation in auc roc score for decision tree classifier: \",cross_val_score(dtc,scaledx,y,cv=5,scoring=\"roc_auc\").std())\n",
    "print(cross_val_score(dtc,scaledx,y,cv=5,scoring=\"roc_auc\"))"
   ]
  },
  {
   "cell_type": "code",
   "execution_count": 42,
   "metadata": {},
   "outputs": [
    {
     "data": {
      "text/plain": [
       "{'n_neighbors': 6}"
      ]
     },
     "execution_count": 42,
     "metadata": {},
     "output_type": "execute_result"
    }
   ],
   "source": [
    "#For KNN we need to know the best value of k using grid search\n",
    "from sklearn.model_selection import GridSearchCV\n",
    "knn=KNeighborsClassifier()\n",
    "neighbors={\"n_neighbors\":range(1,30)}\n",
    "clf = GridSearchCV(knn, neighbors, cv=5,scoring=\"roc_auc\")\n",
    "clf.fit(scaledx,y)\n",
    "clf.best_params_"
   ]
  },
  {
   "cell_type": "code",
   "execution_count": 43,
   "metadata": {},
   "outputs": [
    {
     "name": "stdout",
     "output_type": "stream",
     "text": [
      "auc roc score corresponding to  42  is  0.671875\n",
      "auc roc score corresponding to  43  is  0.5956112852664577\n",
      "auc roc score corresponding to  44  is  0.7204301075268817\n",
      "auc roc score corresponding to  45  is  0.7100313479623825\n",
      "auc roc score corresponding to  46  is  0.8021978021978022\n",
      "auc roc score corresponding to  47  is  0.8009404388714734\n",
      "auc roc score corresponding to  48  is  0.6410658307210031\n",
      "auc roc score corresponding to  49  is  0.5982905982905983\n",
      "auc roc score corresponding to  50  is  0.6093189964157706\n",
      "auc roc score corresponding to  51  is  0.75\n",
      "auc roc score corresponding to  52  is  0.5242165242165242\n",
      "auc roc score corresponding to  53  is  0.7100313479623825\n",
      "auc roc score corresponding to  54  is  0.8831168831168832\n",
      "auc roc score corresponding to  55  is  0.7210031347962382\n",
      "auc roc score corresponding to  56  is  0.6415770609318997\n",
      "auc roc score corresponding to  57  is  0.6971326164874553\n",
      "auc roc score corresponding to  58  is  0.6810035842293907\n",
      "auc roc score corresponding to  59  is  0.6182336182336182\n",
      "auc roc score corresponding to  60  is  0.7554112554112554\n",
      "auc roc score corresponding to  61  is  0.59375\n",
      "auc roc score corresponding to  62  is  0.6166666666666667\n",
      "auc roc score corresponding to  63  is  0.71875\n",
      "auc roc score corresponding to  64  is  0.78125\n",
      "auc roc score corresponding to  65  is  0.657142857142857\n",
      "auc roc score corresponding to  66  is  0.5952380952380953\n",
      "auc roc score corresponding to  67  is  0.8799283154121863\n",
      "auc roc score corresponding to  68  is  0.7402597402597402\n",
      "auc roc score corresponding to  69  is  0.8268398268398269\n",
      "auc roc score corresponding to  70  is  0.6764705882352942\n",
      "auc roc score corresponding to  71  is  0.7797619047619049\n",
      "auc roc score corresponding to  72  is  0.7100313479623825\n",
      "auc roc score corresponding to  73  is  0.5666666666666668\n",
      "auc roc score corresponding to  74  is  0.65625\n",
      "auc roc score corresponding to  75  is  0.515625\n",
      "auc roc score corresponding to  76  is  0.7333333333333333\n",
      "auc roc score corresponding to  77  is  0.84375\n",
      "auc roc score corresponding to  78  is  0.7133333333333334\n",
      "auc roc score corresponding to  79  is  0.7000000000000001\n",
      "auc roc score corresponding to  80  is  0.6566951566951567\n",
      "auc roc score corresponding to  81  is  0.6833333333333333\n",
      "auc roc score corresponding to  82  is  0.5783699059561129\n",
      "auc roc score corresponding to  83  is  0.7554112554112554\n",
      "auc roc score corresponding to  84  is  0.5930735930735931\n",
      "auc roc score corresponding to  85  is  0.6730769230769231\n",
      "auc roc score corresponding to  86  is  0.6726190476190477\n",
      "auc roc score corresponding to  87  is  0.5930735930735931\n",
      "auc roc score corresponding to  88  is  0.6000000000000001\n",
      "auc roc score corresponding to  89  is  0.7833333333333333\n",
      "auc roc score corresponding to  90  is  0.6948051948051949\n",
      "auc roc score corresponding to  91  is  0.48119122257053293\n",
      "auc roc score corresponding to  92  is  0.671875\n",
      "auc roc score corresponding to  93  is  0.6190476190476191\n",
      "auc roc score corresponding to  94  is  0.6493506493506493\n",
      "auc roc score corresponding to  95  is  0.6758241758241759\n",
      "auc roc score corresponding to  96  is  0.6933333333333334\n",
      "auc roc score corresponding to  97  is  0.6937321937321937\n",
      "auc roc score corresponding to  98  is  0.6923076923076923\n",
      "auc roc score corresponding to  99  is  0.7166666666666668\n",
      "max auc roc score corresponding to  54  is  0.8831168831168832\n"
     ]
    },
    {
     "data": {
      "text/plain": [
       "54"
      ]
     },
     "execution_count": 43,
     "metadata": {},
     "output_type": "execute_result"
    }
   ],
   "source": [
    "knn=KNeighborsClassifier(n_neighbors=6)\n",
    "max_aucroc_score(knn,scaledx,y)"
   ]
  },
  {
   "cell_type": "code",
   "execution_count": 44,
   "metadata": {},
   "outputs": [
    {
     "name": "stdout",
     "output_type": "stream",
     "text": [
      "Mean auc roc score for KNN classifier:  0.7636530825496342\n",
      "standard deviation in auc roc score for KNN classifier:  0.08226429046849132\n",
      "[0.68333333 0.91833333 0.73666667 0.76833333 0.71159875]\n"
     ]
    }
   ],
   "source": [
    "#lets check cross_val_score\n",
    "print(\"Mean auc roc score for KNN classifier: \",cross_val_score(knn,scaledx,y,cv=5,scoring=\"roc_auc\").mean())\n",
    "print(\"standard deviation in auc roc score for KNN classifier: \",cross_val_score(knn,scaledx,y,cv=5,scoring=\"roc_auc\").std())\n",
    "print(cross_val_score(knn,scaledx,y,cv=5,scoring=\"roc_auc\"))"
   ]
  },
  {
   "cell_type": "code",
   "execution_count": 45,
   "metadata": {},
   "outputs": [
    {
     "data": {
      "text/plain": [
       "{'C': 1, 'kernel': 'rbf'}"
      ]
     },
     "execution_count": 45,
     "metadata": {},
     "output_type": "execute_result"
    }
   ],
   "source": [
    "#Lets use SVM\n",
    "from sklearn.svm import SVC\n",
    "svc=SVC()\n",
    "parameters={\"kernel\":[\"linear\", \"poly\", \"rbf\"],\"C\":[0.001,0.01,0.1,1,10]}\n",
    "clf = GridSearchCV(svc, parameters, cv=5,scoring=\"roc_auc\")\n",
    "clf.fit(scaledx,y)\n",
    "clf.best_params_"
   ]
  },
  {
   "cell_type": "code",
   "execution_count": 46,
   "metadata": {},
   "outputs": [
    {
     "name": "stdout",
     "output_type": "stream",
     "text": [
      "auc roc score corresponding to  42  is  0.5625\n",
      "auc roc score corresponding to  43  is  0.5109717868338558\n",
      "auc roc score corresponding to  44  is  0.546594982078853\n",
      "auc roc score corresponding to  45  is  0.5\n",
      "auc roc score corresponding to  46  is  0.5\n",
      "auc roc score corresponding to  47  is  0.5\n",
      "auc roc score corresponding to  48  is  0.5391849529780564\n",
      "auc roc score corresponding to  49  is  0.48148148148148145\n",
      "auc roc score corresponding to  50  is  0.5232974910394265\n",
      "auc roc score corresponding to  51  is  0.5\n",
      "auc roc score corresponding to  52  is  0.48290598290598286\n",
      "auc roc score corresponding to  53  is  0.5\n",
      "auc roc score corresponding to  54  is  0.5\n",
      "auc roc score corresponding to  55  is  0.5\n",
      "auc roc score corresponding to  56  is  0.4910394265232975\n",
      "auc roc score corresponding to  57  is  0.578853046594982\n",
      "auc roc score corresponding to  58  is  0.46774193548387094\n",
      "auc roc score corresponding to  59  is  0.5598290598290598\n",
      "auc roc score corresponding to  60  is  0.5562770562770563\n",
      "auc roc score corresponding to  61  is  0.46875\n",
      "auc roc score corresponding to  62  is  0.45\n",
      "auc roc score corresponding to  63  is  0.46875\n",
      "auc roc score corresponding to  64  is  0.59375\n",
      "auc roc score corresponding to  65  is  0.557142857142857\n",
      "auc roc score corresponding to  66  is  0.48214285714285715\n",
      "auc roc score corresponding to  67  is  0.5232974910394265\n",
      "auc roc score corresponding to  68  is  0.5411255411255412\n",
      "auc roc score corresponding to  69  is  0.5\n",
      "auc roc score corresponding to  70  is  0.5392156862745098\n",
      "auc roc score corresponding to  71  is  0.5\n",
      "auc roc score corresponding to  72  is  0.5391849529780564\n",
      "auc roc score corresponding to  73  is  0.5\n",
      "auc roc score corresponding to  74  is  0.453125\n",
      "auc roc score corresponding to  75  is  0.609375\n",
      "auc roc score corresponding to  76  is  0.5166666666666667\n",
      "auc roc score corresponding to  77  is  0.5\n",
      "auc roc score corresponding to  78  is  0.5\n",
      "auc roc score corresponding to  79  is  0.6000000000000001\n",
      "auc roc score corresponding to  80  is  0.5\n",
      "auc roc score corresponding to  81  is  0.5\n",
      "auc roc score corresponding to  82  is  0.4592476489028213\n",
      "auc roc score corresponding to  83  is  0.5\n",
      "auc roc score corresponding to  84  is  0.5108225108225108\n",
      "auc roc score corresponding to  85  is  0.4807692307692308\n",
      "auc roc score corresponding to  86  is  0.48214285714285715\n",
      "auc roc score corresponding to  87  is  0.6082251082251082\n",
      "auc roc score corresponding to  88  is  0.45\n",
      "auc roc score corresponding to  89  is  0.5\n",
      "auc roc score corresponding to  90  is  0.45454545454545453\n",
      "auc roc score corresponding to  91  is  0.5109717868338558\n",
      "auc roc score corresponding to  92  is  0.5\n",
      "auc roc score corresponding to  93  is  0.5297619047619048\n",
      "auc roc score corresponding to  94  is  0.4502164502164503\n",
      "auc roc score corresponding to  95  is  0.5\n",
      "auc roc score corresponding to  96  is  0.5\n",
      "auc roc score corresponding to  97  is  0.5783475783475783\n",
      "auc roc score corresponding to  98  is  0.5\n",
      "auc roc score corresponding to  99  is  0.4666666666666667\n",
      "max auc roc score corresponding to  75  is  0.609375\n"
     ]
    },
    {
     "data": {
      "text/plain": [
       "75"
      ]
     },
     "execution_count": 46,
     "metadata": {},
     "output_type": "execute_result"
    }
   ],
   "source": [
    "svc=SVC(kernel=\"linear\",C=10)\n",
    "max_aucroc_score(svc,scaledx,y)"
   ]
  },
  {
   "cell_type": "code",
   "execution_count": 47,
   "metadata": {},
   "outputs": [
    {
     "data": {
      "text/plain": [
       "{'learning_rate': 1, 'n_estimators': 500}"
      ]
     },
     "execution_count": 47,
     "metadata": {},
     "output_type": "execute_result"
    }
   ],
   "source": [
    "#Lets use Gradient boosting classifier\n",
    "from sklearn.ensemble import GradientBoostingClassifier\n",
    "parameters={\"learning_rate\":[0.001,0.01,0.1,1],\"n_estimators\":[10,100,500,1000]}\n",
    "gb_clf=GradientBoostingClassifier()\n",
    "clf = GridSearchCV(gb_clf, parameters, cv=5,scoring=\"roc_auc\")\n",
    "clf.fit(scaledx,y)\n",
    "clf.best_params_"
   ]
  },
  {
   "cell_type": "code",
   "execution_count": 48,
   "metadata": {},
   "outputs": [
    {
     "name": "stdout",
     "output_type": "stream",
     "text": [
      "auc roc score corresponding to  42  is  0.421875\n",
      "auc roc score corresponding to  43  is  0.5846394984326019\n",
      "auc roc score corresponding to  44  is  0.5304659498207885\n",
      "auc roc score corresponding to  45  is  0.5956112852664577\n",
      "auc roc score corresponding to  46  is  0.6181318681318682\n",
      "auc roc score corresponding to  47  is  0.7664576802507836\n",
      "auc roc score corresponding to  48  is  0.5047021943573667\n",
      "auc roc score corresponding to  49  is  0.5042735042735043\n",
      "auc roc score corresponding to  50  is  0.4498207885304659\n",
      "auc roc score corresponding to  51  is  0.6547619047619047\n",
      "auc roc score corresponding to  52  is  0.4871794871794871\n",
      "auc roc score corresponding to  53  is  0.6410658307210031\n",
      "auc roc score corresponding to  54  is  0.6082251082251082\n",
      "auc roc score corresponding to  55  is  0.6238244514106583\n",
      "auc roc score corresponding to  56  is  0.5376344086021505\n",
      "auc roc score corresponding to  57  is  0.5609318996415771\n",
      "auc roc score corresponding to  58  is  0.5609318996415771\n",
      "auc roc score corresponding to  59  is  0.5042735042735043\n",
      "auc roc score corresponding to  60  is  0.5627705627705628\n",
      "auc roc score corresponding to  61  is  0.71875\n",
      "auc roc score corresponding to  62  is  0.4833333333333333\n",
      "auc roc score corresponding to  63  is  0.59375\n",
      "auc roc score corresponding to  64  is  0.5625\n",
      "auc roc score corresponding to  65  is  0.5571428571428572\n",
      "auc roc score corresponding to  66  is  0.4523809523809524\n",
      "auc roc score corresponding to  67  is  0.5931899641577061\n",
      "auc roc score corresponding to  68  is  0.6493506493506493\n",
      "auc roc score corresponding to  69  is  0.5367965367965368\n",
      "auc roc score corresponding to  70  is  0.6176470588235294\n",
      "auc roc score corresponding to  71  is  0.6488095238095238\n",
      "auc roc score corresponding to  72  is  0.3667711598746081\n",
      "auc roc score corresponding to  73  is  0.6333333333333333\n",
      "auc roc score corresponding to  74  is  0.625\n",
      "auc roc score corresponding to  75  is  0.609375\n",
      "auc roc score corresponding to  76  is  0.6333333333333333\n",
      "auc roc score corresponding to  77  is  0.734375\n",
      "auc roc score corresponding to  78  is  0.62\n",
      "auc roc score corresponding to  79  is  0.6\n",
      "auc roc score corresponding to  80  is  0.5413105413105412\n",
      "auc roc score corresponding to  81  is  0.65\n",
      "auc roc score corresponding to  82  is  0.48746081504702193\n",
      "auc roc score corresponding to  83  is  0.5974025974025974\n",
      "auc roc score corresponding to  84  is  0.6645021645021645\n",
      "auc roc score corresponding to  85  is  0.6208791208791209\n",
      "auc roc score corresponding to  86  is  0.5952380952380953\n",
      "auc roc score corresponding to  87  is  0.6645021645021645\n",
      "auc roc score corresponding to  88  is  0.6\n",
      "auc roc score corresponding to  89  is  0.7166666666666667\n",
      "auc roc score corresponding to  90  is  0.7402597402597402\n",
      "auc roc score corresponding to  91  is  0.5156739811912225\n",
      "auc roc score corresponding to  92  is  0.609375\n",
      "auc roc score corresponding to  93  is  0.47023809523809523\n",
      "auc roc score corresponding to  94  is  0.645021645021645\n",
      "auc roc score corresponding to  95  is  0.5824175824175823\n",
      "auc roc score corresponding to  96  is  0.56\n",
      "auc roc score corresponding to  97  is  0.6168091168091168\n",
      "auc roc score corresponding to  98  is  0.598901098901099\n",
      "auc roc score corresponding to  99  is  0.7166666666666668\n",
      "max auc roc score corresponding to  47  is  0.7664576802507836\n"
     ]
    },
    {
     "data": {
      "text/plain": [
       "47"
      ]
     },
     "execution_count": 48,
     "metadata": {},
     "output_type": "execute_result"
    }
   ],
   "source": [
    "gb_clf=GradientBoostingClassifier(learning_rate=1,n_estimators=500)\n",
    "max_aucroc_score(gb_clf,scaledx,y)"
   ]
  },
  {
   "cell_type": "markdown",
   "metadata": {},
   "source": [
    "###### lets choose best model as KNN and random state as 54"
   ]
  },
  {
   "cell_type": "code",
   "execution_count": 49,
   "metadata": {},
   "outputs": [],
   "source": [
    "x_train, x_test, y_train, y_test = train_test_split(scaledx, y,random_state = 54,test_size=0.20)\n",
    "knn=KNeighborsClassifier(n_neighbors=6)\n",
    "knn.fit(x_train,y_train)\n",
    "y_pred=knn.predict(x_test)"
   ]
  },
  {
   "cell_type": "code",
   "execution_count": 50,
   "metadata": {},
   "outputs": [
    {
     "name": "stdout",
     "output_type": "stream",
     "text": [
      "accuracy score is :  0.9\n",
      "classification report \n",
      "               precision    recall  f1-score   support\n",
      "\n",
      "           0       0.67      0.86      0.75         7\n",
      "           1       0.97      0.91      0.94        33\n",
      "\n",
      "    accuracy                           0.90        40\n",
      "   macro avg       0.82      0.88      0.84        40\n",
      "weighted avg       0.92      0.90      0.90        40\n",
      "\n",
      "AUC ROC Score:  0.8831168831168832\n"
     ]
    }
   ],
   "source": [
    "print(\"accuracy score is : \",accuracy_score(y_test,y_pred))\n",
    "print(\"classification report \\n\",classification_report(y_test,y_pred))\n",
    "print(\"AUC ROC Score: \",roc_auc_score(y_test,y_pred))"
   ]
  },
  {
   "cell_type": "code",
   "execution_count": 51,
   "metadata": {},
   "outputs": [],
   "source": [
    "#saving the best model"
   ]
  },
  {
   "cell_type": "code",
   "execution_count": 52,
   "metadata": {},
   "outputs": [
    {
     "data": {
      "text/plain": [
       "['heart_disease.pkl']"
      ]
     },
     "execution_count": 52,
     "metadata": {},
     "output_type": "execute_result"
    }
   ],
   "source": [
    "import joblib\n",
    "joblib.dump(knn,\"heart_disease.pkl\")"
   ]
  },
  {
   "cell_type": "code",
   "execution_count": null,
   "metadata": {},
   "outputs": [],
   "source": []
  }
 ],
 "metadata": {
  "kernelspec": {
   "display_name": "Python 3",
   "language": "python",
   "name": "python3"
  },
  "language_info": {
   "codemirror_mode": {
    "name": "ipython",
    "version": 3
   },
   "file_extension": ".py",
   "mimetype": "text/x-python",
   "name": "python",
   "nbconvert_exporter": "python",
   "pygments_lexer": "ipython3",
   "version": "3.8.3"
  }
 },
 "nbformat": 4,
 "nbformat_minor": 4
}
